{
  "nbformat": 4,
  "nbformat_minor": 0,
  "metadata": {
    "colab": {
      "provenance": []
    },
    "kernelspec": {
      "name": "python3",
      "display_name": "Python 3"
    },
    "language_info": {
      "name": "python"
    }
  },
  "cells": [
    {
      "cell_type": "markdown",
      "source": [
        "#### **ATTENTION!!!**\n",
        "- **Place each section (1,2...) in one or more cells to keep the notebook organised**\n",
        "- **Complete the codes in the `TODO` sections**"
      ],
      "metadata": {
        "id": "kKCIlfklSrTw"
      }
    },
    {
      "cell_type": "code",
      "execution_count": null,
      "metadata": {
        "id": "dnmV0gINSR23",
        "colab": {
          "base_uri": "https://localhost:8080/"
        },
        "outputId": "207ffd37-b961-4b0e-ac1a-26750e42a2d5"
      },
      "outputs": [
        {
          "output_type": "stream",
          "name": "stdout",
          "text": [
            "Requirement already satisfied: requests in /usr/local/lib/python3.10/dist-packages (2.32.3)\n",
            "Requirement already satisfied: charset-normalizer<4,>=2 in /usr/local/lib/python3.10/dist-packages (from requests) (3.4.0)\n",
            "Requirement already satisfied: idna<4,>=2.5 in /usr/local/lib/python3.10/dist-packages (from requests) (3.10)\n",
            "Requirement already satisfied: urllib3<3,>=1.21.1 in /usr/local/lib/python3.10/dist-packages (from requests) (2.2.3)\n",
            "Requirement already satisfied: certifi>=2017.4.17 in /usr/local/lib/python3.10/dist-packages (from requests) (2024.12.14)\n",
            "Book: Python Programming, Quantity: 5, Price: $29.99, Available: True\n",
            "Updated book list: ['Python Basics', 'Advanced Python', 'Data Science with Python']\n",
            "\n",
            "Available books:\n",
            "Enter a new book title: Advanced Python\n",
            "Updated book list: ['Python Basics', 'Advanced Python', 'Data Science with Python', 'Advanced Python']\n",
            "Is 'Python Basics' available? None\n",
            "Python Basics\n",
            "Advanced Python\n",
            "Data Science with Python\n",
            "Advanced Python\n",
            "Top 5 Python repositories on GitHub: ['keras', 'rich', 'black', 'OpenHands', 'python-cheatsheet']\n",
            "\n",
            "Library Management System operations completed.\n"
          ]
        }
      ],
      "source": [
        "# Python Library Management System\n",
        "\n",
        "# Install required libraries (This should already exist in colab)\n",
        "!pip install requests\n",
        "\n",
        "import pickle\n",
        "import sqlite3\n",
        "import requests\n",
        "\n",
        "# 1. Data Types and Variables\n",
        "book_title = \"Python Programming\"\n",
        "book_quantity = 5\n",
        "book_price = 29.99\n",
        "is_available = True\n",
        "\n",
        "print(f\"Book: {book_title}, Quantity: {book_quantity}, Price: ${book_price}, Available: {is_available}\")\n",
        "\n",
        "# 2. Lists\n",
        "books = [\"Python Basics\", \"Advanced Python\", \"Data Science with Python\"]\n",
        "\n",
        "# TODO: Add two more books to the list\n",
        "# books.append(...)\n",
        "# books.insert(...)\n",
        "\n",
        "print(\"Updated book list:\", books)\n",
        "\n",
        "# 3. Loops and range()\n",
        "print(\"\\nAvailable books:\")\n",
        "# TODO: Use a for loop and range() to print books with their indices\n",
        "# for ... in range(...):\n",
        "#     print(...)\n",
        "\n",
        "# 4. User Input\n",
        "new_book = input(\"Enter a new book title: \")\n",
        "books.append(new_book)\n",
        "print(\"Updated book list:\", books)\n",
        "\n",
        "# 5. Functions and Conditional Statements\n",
        "def check_availability(book_name):\n",
        "    # TODO: Check if the book is in the list and return True if available, False otherwise\n",
        "    # if ...:\n",
        "    #     return ...\n",
        "    # else:\n",
        "    #     return ...\n",
        "    pass\n",
        "\n",
        "# Test the function\n",
        "print(f\"Is 'Python Basics' available? {check_availability('Python Basics')}\")\n",
        "\n",
        "# 6. File I/O\n",
        "def save_books_to_file(filename):\n",
        "    with open(filename, 'w') as f:\n",
        "        for book in books:\n",
        "            f.write(f\"{book}\\n\")\n",
        "\n",
        "# TODO: Implement a function to read books from a file\n",
        "# def read_books_from_file(filename):\n",
        "#     ...\n",
        "\n",
        "# Test file I/O\n",
        "save_books_to_file(\"books.txt\")\n",
        "!cat books.txt  # Display file contents in Colab\n",
        "\n",
        "# 7. Pickle for serialization\n",
        "def save_books_pickle(filename):\n",
        "    with open(filename, 'wb') as f:\n",
        "        pickle.dump(books, f)\n",
        "\n",
        "# TODO: Implement a function to load books using pickle\n",
        "# def load_books_pickle(filename):\n",
        "#     ...\n",
        "\n",
        "# Test pickle functions\n",
        "save_books_pickle(\"books.pkl\")\n",
        "# Uncomment the next line after implementing load_books_pickle\n",
        "# print(\"Books loaded from pickle:\", load_books_pickle(\"books.pkl\"))\n",
        "\n",
        "# 8. SQLite Database Interaction\n",
        "def create_books_table():\n",
        "    conn = sqlite3.connect('library.db')\n",
        "    cursor = conn.cursor()\n",
        "    cursor.execute('''CREATE TABLE IF NOT EXISTS books\n",
        "                      (id INTEGER PRIMARY KEY, title TEXT, quantity INTEGER)''')\n",
        "    conn.commit()\n",
        "    conn.close()\n",
        "\n",
        "# TODO: Implement a function to add a book to the SQLite database\n",
        "# def add_book_to_db(title, quantity):\n",
        "#     ...\n",
        "\n",
        "# Test database functions\n",
        "create_books_table()\n",
        "# Uncomment the next line after implementing add_book_to_db\n",
        "# add_book_to_db(\"Python for Beginners\", 10)\n",
        "\n",
        "# 9. Web API Interaction (GitHub API)\n",
        "def get_python_repos():\n",
        "    url = \"https://api.github.com/search/repositories\"\n",
        "    params = {\"q\": \"language:python\", \"sort\": \"stars\", \"order\": \"desc\"}\n",
        "    response = requests.get(url, params=params)\n",
        "    data = response.json()\n",
        "    return [repo['name'] for repo in data['items'][:5]]\n",
        "\n",
        "# Test API function\n",
        "print(\"Top 5 Python repositories on GitHub:\", get_python_repos())\n",
        "\n",
        "print(\"\\nLibrary Management System operations completed.\")"
      ]
    },
    {
      "cell_type": "markdown",
      "source": [
        "##**1. Data Types and Variables**"
      ],
      "metadata": {
        "id": "puPJaTYE_eU_"
      }
    },
    {
      "cell_type": "code",
      "source": [
        "\n",
        "\n",
        "book_title = \"Python Programming\"\n",
        "book_quantity = 5\n",
        "book_price = 29.99\n",
        "is_available = True\n",
        "\n",
        "print(f\"Book: {book_title}, Quantity: {book_quantity}, Price: ${book_price}, Available: {is_available}\")"
      ],
      "metadata": {
        "colab": {
          "base_uri": "https://localhost:8080/",
          "height": 0
        },
        "id": "425M0TkvrqS0",
        "outputId": "23507005-3aa7-4f0e-b03d-1f025c6fb965"
      },
      "execution_count": 16,
      "outputs": [
        {
          "output_type": "stream",
          "name": "stdout",
          "text": [
            "Book: Python Programming, Quantity: 5, Price: $29.99, Available: True\n"
          ]
        }
      ]
    },
    {
      "cell_type": "markdown",
      "source": [
        "##**2. Lists**"
      ],
      "metadata": {
        "id": "z5zRN3Zo_kPw"
      }
    },
    {
      "cell_type": "code",
      "source": [
        "# 2. Lists\n",
        "books = [\"Python Basics\", \"Advanced Python\", \"Data Science with Python\"]\n",
        "\n",
        "# TODO: Add two more books to the list\n",
        "# books.append(...)\n",
        "# books.insert(...)\n",
        "\n",
        "books.append(\"Introduction to Artifical Intelligence\")\n",
        "books.append(\"Data Wrangling and Visualization\" )\n",
        "\n",
        "print(\"Updated book list:\", books)\n"
      ],
      "metadata": {
        "colab": {
          "base_uri": "https://localhost:8080/",
          "height": 0
        },
        "id": "9rcO-ChXry4o",
        "outputId": "51e05dd1-5fa1-4334-c9a7-c00b29896a6e"
      },
      "execution_count": 17,
      "outputs": [
        {
          "output_type": "stream",
          "name": "stdout",
          "text": [
            "Updated book list: ['Python Basics', 'Advanced Python', 'Data Science with Python', 'Introduction to Artifical Intelligence', 'Data Wrangling and Visualization']\n"
          ]
        }
      ]
    },
    {
      "cell_type": "markdown",
      "source": [
        "##**3. Loops and range()**"
      ],
      "metadata": {
        "id": "UtoTbz_0_pFr"
      }
    },
    {
      "cell_type": "code",
      "source": [
        "\n",
        "print(\"\\nAvailable books:\")\n",
        "\n",
        "# TODO: Use a for loop and range() to print books with their indices\n",
        "\n",
        "for i in range(len(books)):\n",
        "  print(f\"{i}. {books[i]}\")"
      ],
      "metadata": {
        "colab": {
          "base_uri": "https://localhost:8080/",
          "height": 0
        },
        "id": "34YWeEp9so4L",
        "outputId": "a89e73f2-1b54-4797-98e4-897757898c61"
      },
      "execution_count": 18,
      "outputs": [
        {
          "output_type": "stream",
          "name": "stdout",
          "text": [
            "\n",
            "Available books:\n",
            "0. Python Basics\n",
            "1. Advanced Python\n",
            "2. Data Science with Python\n",
            "3. Introduction to Artifical Intelligence\n",
            "4. Data Wrangling and Visualization\n"
          ]
        }
      ]
    },
    {
      "cell_type": "markdown",
      "source": [
        "##**4. User Input**"
      ],
      "metadata": {
        "id": "pth9WaJG_tVl"
      }
    },
    {
      "cell_type": "code",
      "source": [
        "\n",
        "\n",
        "new_book = input(\"Enter a new book title:\")\n",
        "books.append(new_book)\n",
        "print(\"Updated book list:\", books)"
      ],
      "metadata": {
        "colab": {
          "base_uri": "https://localhost:8080/",
          "height": 0
        },
        "id": "4Eip4sJu3jew",
        "outputId": "fc7c2e57-a912-4d38-afd8-d16adb399fc7"
      },
      "execution_count": 20,
      "outputs": [
        {
          "output_type": "stream",
          "name": "stdout",
          "text": [
            "Enter a new book title:Statistics\n",
            "Updated book list: ['Python Basics', 'Advanced Python', 'Data Science with Python', 'Introduction to Artifical Intelligence', 'Data Wrangling and Visualization', 'Statistics']\n"
          ]
        }
      ]
    },
    {
      "cell_type": "markdown",
      "source": [
        "## **5. Functions and Conditional Statements**"
      ],
      "metadata": {
        "id": "KHuFEn9j_wQH"
      }
    },
    {
      "cell_type": "code",
      "source": [
        "\n",
        "def check_availability(book_name):\n",
        "    if book_name in books:\n",
        "        return True\n",
        "    else:\n",
        "        return False\n",
        "\n",
        "print(check_availability(\"Visualization\"))\n",
        "print(check_availability(\"Excel\"))\n",
        "print(check_availability(\"Data Science with Python\"))"
      ],
      "metadata": {
        "colab": {
          "base_uri": "https://localhost:8080/",
          "height": 0
        },
        "id": "lvH4r8ae4IUV",
        "outputId": "ac141ba9-043a-4b87-ca73-4f7b6cb3cb90"
      },
      "execution_count": 31,
      "outputs": [
        {
          "output_type": "stream",
          "name": "stdout",
          "text": [
            "False\n",
            "False\n",
            "True\n"
          ]
        }
      ]
    },
    {
      "cell_type": "markdown",
      "source": [
        "##**6. File I/O**"
      ],
      "metadata": {
        "id": "BFko6F2o_zZ5"
      }
    },
    {
      "cell_type": "code",
      "source": [
        "\n",
        "def save_books_to_file(filename):\n",
        "    with open(filename, 'w') as f:\n",
        "        for book in books:\n",
        "            f.write(f\"{book}\\n\")\n",
        "\n",
        "# TODO: Implement a function to read books from a file\n",
        "# def read_books_from_file(filename):\n",
        "#     ...\n",
        "\n",
        "# Test file I/O\n",
        "save_books_to_file(\"books.txt\")\n",
        "!cat books.txt  # Display file contents in Colab"
      ],
      "metadata": {
        "colab": {
          "base_uri": "https://localhost:8080/",
          "height": 0
        },
        "id": "oGipzGlJ63Im",
        "outputId": "bb53e9b7-92cb-47aa-b02c-0e393313f5e9"
      },
      "execution_count": 33,
      "outputs": [
        {
          "output_type": "stream",
          "name": "stdout",
          "text": [
            "Python Basics\n",
            "Advanced Python\n",
            "Data Science with Python\n",
            "Introduction to Artifical Intelligence\n",
            "Data Wrangling and Visualization\n",
            "Statistics\n"
          ]
        }
      ]
    },
    {
      "cell_type": "code",
      "source": [
        "# read books from a file\n",
        "def read_books_from_file(filename):\n",
        "    try:\n",
        "        with open(filename, 'r') as f:\n",
        "            books = [line.strip() for line in f if line.strip()]\n",
        "        return books\n",
        "    except FileNotFoundError:\n",
        "        print(f\"Error: File '{filename}' not found.\")\n",
        "        return []\n",
        "\n",
        "book_list = read_books_from_file(\"books.txt\")\n",
        "print(\"Books read from file:\", book_list)"
      ],
      "metadata": {
        "colab": {
          "base_uri": "https://localhost:8080/",
          "height": 0
        },
        "id": "PYUFsMf0_Qd4",
        "outputId": "e96eab74-b84b-4c69-9f2c-891f1b1b18de"
      },
      "execution_count": 40,
      "outputs": [
        {
          "output_type": "stream",
          "name": "stdout",
          "text": [
            "Books read from file: ['Python Basics', 'Advanced Python', 'Data Science with Python', 'Introduction to Artifical Intelligence', 'Data Wrangling and Visualization', 'Statistics']\n"
          ]
        }
      ]
    },
    {
      "cell_type": "markdown",
      "source": [
        "##**7. Pickle for serialization**"
      ],
      "metadata": {
        "id": "iKBB95N6_3ph"
      }
    },
    {
      "cell_type": "code",
      "source": [
        "import pickle\n",
        "\n",
        "def save_books_pickle(filename):\n",
        "    with open(filename, 'wb') as f:\n",
        "        pickle.dump(books, f)\n",
        "\n",
        "save_books_pickle(\"books.pkl\")\n"
      ],
      "metadata": {
        "id": "jiH0yQqH9LcF"
      },
      "execution_count": 35,
      "outputs": []
    },
    {
      "cell_type": "code",
      "source": [
        "# TODO: Implement a function to load books using pickle\n",
        "# def load_books_pickle(filename):\n",
        "#     ...\n",
        "\n",
        "# Load books using pickle\n",
        "\n",
        "def load_books_from_pickle(filename):\n",
        "    try:\n",
        "        with open(filename, 'rb') as f:\n",
        "            books = pickle.load(f)\n",
        "        return books\n",
        "    except FileNotFoundError:\n",
        "        print(f\"Error: File '{filename}' not found.\")\n",
        "        return []\n",
        "    except pickle.UnpicklingError:\n",
        "        print(f\"Error: Could not load data from '{filename}'.\")\n",
        "        return []\n",
        "\n",
        "loaded_books = load_books_from_pickle(\"books.pkl\")\n",
        "print(\"Books loaded from pickle:\",loaded_books)"
      ],
      "metadata": {
        "colab": {
          "base_uri": "https://localhost:8080/",
          "height": 0
        },
        "id": "wAUYn-0v8135",
        "outputId": "33119a7d-c8b8-40de-ae48-34861ec330ed"
      },
      "execution_count": 39,
      "outputs": [
        {
          "output_type": "stream",
          "name": "stdout",
          "text": [
            "Books loaded from pickle: ['Python Basics', 'Advanced Python', 'Data Science with Python', 'Introduction to Artifical Intelligence', 'Data Wrangling and Visualization', 'Statistics']\n"
          ]
        }
      ]
    },
    {
      "cell_type": "markdown",
      "source": [
        "##**8. SQLite Database Interaction**"
      ],
      "metadata": {
        "id": "4E2lEyqsCMtS"
      }
    },
    {
      "cell_type": "code",
      "source": [
        "# Creating a function to add books to an SQLite database\n",
        "\n",
        "import sqlite3\n",
        "\n",
        "def create_books_table():\n",
        "    conn = sqlite3.connect('library.db')\n",
        "    cursor = conn.cursor()\n",
        "    cursor.execute('''CREATE TABLE IF NOT EXISTS books\n",
        "                      (id INTEGER PRIMARY KEY, title TEXT UNIQUE, quantity INTEGER)''')\n",
        "    conn.commit()\n",
        "    conn.close()\n",
        "\n",
        "# TODO: Implement a function to add a book to the SQLite database\n",
        "def add_book_to_db(title, quantity):\n",
        "    conn = sqlite3.connect('library.db')\n",
        "    cursor = conn.cursor()\n",
        "    cursor.execute(\"INSERT INTO books (title, quantity) VALUES (?, ?)\", (title, quantity))\n",
        "    conn.commit()\n",
        "    conn.close()\n",
        "\n",
        "\n",
        "# Test database functions\n",
        "create_books_table()\n",
        "\n",
        "add_book_to_db(\"Python for Beginners\", 10)"
      ],
      "metadata": {
        "id": "V3XP682xCK-a"
      },
      "execution_count": 54,
      "outputs": []
    },
    {
      "cell_type": "code",
      "source": [
        "def view_all_books():\n",
        "    conn = sqlite3.connect('library.db')\n",
        "    cursor = conn.cursor()\n",
        "    cursor.execute(\"SELECT * FROM books\")\n",
        "    rows = cursor.fetchall()\n",
        "    for row in rows:\n",
        "        print(row)\n",
        "    conn.close()\n",
        "\n",
        "view_all_books()"
      ],
      "metadata": {
        "colab": {
          "base_uri": "https://localhost:8080/",
          "height": 0
        },
        "id": "e5tHBS3kDMsV",
        "outputId": "76d55c60-f449-4a21-bc2e-597c50487e0d"
      },
      "execution_count": 58,
      "outputs": [
        {
          "output_type": "stream",
          "name": "stdout",
          "text": [
            "(1, 'Python for Beginners', 10)\n"
          ]
        }
      ]
    },
    {
      "cell_type": "markdown",
      "source": [
        "##**9. Web API Interaction (GitHub API)**"
      ],
      "metadata": {
        "id": "JeGbPY5EEhqF"
      }
    },
    {
      "cell_type": "code",
      "source": [
        "import requests\n",
        "\n",
        "def get_python_repos():\n",
        "    url = \"https://api.github.com/search/repositories\"\n",
        "    params = {\"q\": \"language:python\", \"sort\": \"stars\", \"order\": \"desc\"}\n",
        "    response = requests.get(url, params=params)\n",
        "    data = response.json()\n",
        "    return [repo['name'] for repo in data['items'][:5]]\n",
        "\n",
        "# Test API function\n",
        "print(\"Top 5 Python repositories on GitHub:\", get_python_repos())\n",
        "\n",
        "print(\"\\nLibrary Management System operations completed.\")"
      ],
      "metadata": {
        "colab": {
          "base_uri": "https://localhost:8080/",
          "height": 0
        },
        "id": "aCvMnrCsCU9-",
        "outputId": "1adc6721-6163-49c7-ea00-42373e08717a"
      },
      "execution_count": 59,
      "outputs": [
        {
          "output_type": "stream",
          "name": "stdout",
          "text": [
            "Top 5 Python repositories on GitHub: ['free-programming-books', 'public-apis', 'system-design-primer', 'awesome-python', 'Python']\n",
            "\n",
            "Library Management System operations completed.\n"
          ]
        }
      ]
    }
  ]
}